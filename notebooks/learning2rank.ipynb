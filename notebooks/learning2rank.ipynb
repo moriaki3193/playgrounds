{
 "cells": [
  {
   "cell_type": "markdown",
   "metadata": {},
   "source": [
    "## Learning to rank\n",
    "with scikit-learn: the pairwise transform\n",
    "\n",
    "[website](http://fa.bianp.net/blog/2012/learning-to-rank-with-scikit-learn-the-pairwise-transform/)\n",
    "\n",
    "### background\n",
    "ランク設定では, トレーニングデータはある程度順序付けられたアイテムの集合が利用される.\n",
    "その順序は`数値`, `基数`, `バイナリ(\"relevant\", \"not relevant\")`が利用される. \n",
    "そのため, リストに含まれるいかなる2つのサンプル`a`, `b`において, `a > b`, `b < a`は比較できないものとして扱われる.\n",
    "\n",
    "たとえば, 検索エンジンの場合, 異なるクエリに属する結果からデータセットは構成され, クエリとの関連性のみを比較したい.\n",
    "\n",
    "この順序関係はたいてい`domain-specific`(領域特化)である. たとえば, 情報検索においては比較可能なサンプル集合は\"query id\"と呼ばれる. この問題でのゴールは同一のクエリに属するドキュメントたちのみを比較することである."
   ]
  },
  {
   "cell_type": "code",
   "execution_count": 11,
   "metadata": {
    "collapsed": false
   },
   "outputs": [],
   "source": [
    "%matplotlib inline\n",
    "import itertools\n",
    "import numpy as np\n",
    "from scipy import stats\n",
    "import pylab as pl\n",
    "from sklearn import svm, linear_model, cross_validation"
   ]
  },
  {
   "cell_type": "markdown",
   "metadata": {},
   "source": [
    "始めるにあたって, 応答変数が3つのグレード$Y = \\{0, 1, 2\\}$から成り立ち, 説明変数がそれぞれ2次元の特徴を持つ30のサンプルを作成する.\n",
    "\n",
    "(IRにおけるクエリといった)比較可能な要素の集合は, $X_{1}, X_{2}$といった正規分布に従うが違いにパラメータの異なる部分集合の集合和から成り立つ. 次に出力する表では, $X_{1}$は丸のマーカーで, $X_{2}$は三角のマーカーで示す."
   ]
  },
  {
   "cell_type": "code",
   "execution_count": 12,
   "metadata": {
    "collapsed": false
   },
   "outputs": [
    {
     "data": {
      "image/png": "[encoded data removed]",
      "text/plain": [
       "<matplotlib.figure.Figure at 0x111c644a8>"
      ]
     },
     "metadata": {},
     "output_type": "display_data"
    }
   ],
   "source": [
    "np.random.seed(0)\n",
    "theta = np.deg2rad(60) # 角度をラジアンに変換する\n",
    "w = np.array([np.sin(theta), np.cos(theta)])\n",
    "K = 20\n",
    "X = np.random.randn(K, 2)\n",
    "y = [0] * K # len = 20 の０で埋められたリストを作成\n",
    "for i in range(1,3):\n",
    "    X = np.concatenate((X, np.random.randn(K, 2) + i * 4 * w))\n",
    "    y = np.concatenate((y, [i] * K))\n",
    "# slightly displace data corresponding to our second partition\n",
    "X[::2] -= np.array([3,7])\n",
    "blocks = np.array([0,1] * int((X.shape[0] / 2)))\n",
    "# split into train and test set\n",
    "cv = cross_validation.StratifiedShuffleSplit(y, test_size=0.5)\n",
    "train, test = next(iter(cv))\n",
    "X_train, y_train, b_train = X[train], y[train], blocks[train]\n",
    "X_test, y_test, b_test = X[test], y[test], blocks[test]\n",
    "# plot the result\n",
    "idx = (b_train == 0)\n",
    "pl.scatter(X_train[idx, 0], X_train[idx, 1], c=y_train[idx],\n",
    "           marker=\"^\", cmap=pl.cm.Blues, s=100)\n",
    "pl.scatter(X_train[~idx, 0], X_train[~idx, 1], c=y_train[~idx],\n",
    "          marker=\"o\", cmap=pl.cm.Blues, s=100)\n",
    "pl.arrow(0,0,8 * w[0], 8*w[1], fc=\"gray\", ec=\"gray\",\n",
    "        head_width=0.5, head_length=0.5)\n",
    "pl.text(0,1, \"$w$\", fontsize=20)\n",
    "pl.arrow(-3, -8, 8*w[0], 8*w[1], fc=\"gray\", ec=\"gray\",\n",
    "        head_width=0.5, head_length=0.5)\n",
    "pl.text(-2.6, -7, \"$w\", fontsize=20)\n",
    "pl.axis(\"equal\")\n",
    "pl.show()"
   ]
  },
  {
   "cell_type": "markdown",
   "metadata": {},
   "source": [
    "上の表では,  $X_{1}, X_{2}$ともに共通する, 正しい順序を導出するような$w$ベクトルが存在することがわかる."
   ]
  },
  {
   "cell_type": "code",
   "execution_count": null,
   "metadata": {
    "collapsed": true
   },
   "outputs": [],
   "source": []
  }
 ],
 "metadata": {
  "anaconda-cloud": {},
  "kernelspec": {
   "display_name": "Python [Root]",
   "language": "python",
   "name": "Python [Root]"
  },
  "language_info": {
   "codemirror_mode": {
    "name": "ipython",
    "version": 3
   },
   "file_extension": ".py",
   "mimetype": "text/x-python",
   "name": "python",
   "nbconvert_exporter": "python",
   "pygments_lexer": "ipython3",
   "version": "3.5.2"
  }
 },
 "nbformat": 4,
 "nbformat_minor": 0
}
