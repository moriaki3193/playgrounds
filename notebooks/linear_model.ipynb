{
 "cells": [
  {
   "cell_type": "markdown",
   "metadata": {},
   "source": [
    "# 線形モデル\n",
    "## とは？\n",
    "+ 説明変数(行列): $X$\n",
    "+ 応答変数(ベクトル): $\\bf{y}$\n",
    "+ 誤差(ベクトル): $\\bf{\\epsilon}$\n",
    "\n",
    "として\n",
    "\n",
    "$$\n",
    "\\bf{y} = \\bf{w}^{T} X + \\bf{\\epsilon}\n",
    "$$\n",
    "\n",
    "### 仮定\n",
    "+ ここの観測値(応答変数)が`説明変数と誤差の和`で決定される\n",
    "+ 応答変数は母平均$\\mu_{y}$, 母分散$\\sigma_{y}^{2}$の正規分布に従う確率変数\n",
    "+ 誤差は母平均$0$, 母分散$\\sigma_{\\epsilon}^{2}$の正規分布に従う確率変数\n",
    "\n",
    "また、誤差と説明変数は`独立`であると仮定する。\n",
    "今までに述べた前提を満たさない場合(たとえば応答変数が二項分布に従うなど)は、`GLM`を利用して分析を行う。\n",
    "\n",
    "ただし、応答変数や説明変数を対数変換するなどして線形モデルの枠組みで処理できる場合もある。\n",
    "\n",
    "### 説明変数の重みの推定\n",
    "`最小2乗法`を利用する。次の誤差$\\epsilon$の2乗和を最小化するような$\\bf{w}$を求める。\n",
    "\n",
    "$$\n",
    "\\sum_{i=1}^{n}(y_{i} - \\bf{w}^{T}x_{i})^{2}\n",
    "$$\n",
    "\n",
    "$w_{i}$について微分し、その値が0になるような$w_{i}$からなる$\\bf{w}$を求めれば良い。"
   ]
  },
  {
   "cell_type": "markdown",
   "metadata": {},
   "source": [
    "## 分散分析\n",
    "`ANOVA`(Analysis of Variance)という。\n",
    "\n",
    "### 具体例\n",
    "試験成績を$y_{i}$とし、その学生が受ける講義形式を$\\alpha_{1}$, $\\alpha_{2}$, $\\alpha_{3}$、誤差を$\\epsilon$と表す。\n",
    "\n",
    "学生はただ一つの講義形式で受講する。どの講義形式が有用か知りたい。\n",
    "\n",
    "$$\n",
    "y_{i} = \\alpha_{1}x_{i,1} + \\alpha_{2}x_{i,2} + \\alpha_{3}x_{i,3} + \\epsilon_{i}\n",
    "$$\n",
    "\n",
    "学生$i$が講義形式1で試験に望んだ場合を考える。このとき$x_{i,1}=1$、それ以外を0とおく(ダミー変数)。\n",
    "\n",
    "### 縮約化正規方程式\n",
    "正規方程式の次元よりランクが小さいときに、縮約可能であれば縮約することで得られる正規方程式。\n",
    "\n",
    "### 最小2乗平均値\n",
    "サブクラスのデータ数が全て等しいと仮定した場合の各水準の平均値。"
   ]
  },
  {
   "cell_type": "markdown",
   "metadata": {},
   "source": [
    "## まとめ\n",
    "線形モデルは$y_{i} = f(x_{i}) = b_{0} + b_{1}x_{i,1} + b_{2}x_{i,2} + \\cdot + \\epsilon_{i}$で表現される。\n",
    "\n",
    "条件としては、$y ~ N(\\mu_{y}, \\sigma_{y}^{2})$, $\\epsilon ~ N(0, \\sigma_{\\epsilon})$をおいている。もし当てはまらなければ、一般化線形モデルなど、拡張がある。"
   ]
  },
  {
   "cell_type": "code",
   "execution_count": null,
   "metadata": {
    "collapsed": true
   },
   "outputs": [],
   "source": []
  }
 ],
 "metadata": {
  "anaconda-cloud": {},
  "kernelspec": {
   "display_name": "Python [Root]",
   "language": "python",
   "name": "Python [Root]"
  },
  "language_info": {
   "codemirror_mode": {
    "name": "ipython",
    "version": 3
   },
   "file_extension": ".py",
   "mimetype": "text/x-python",
   "name": "python",
   "nbconvert_exporter": "python",
   "pygments_lexer": "ipython3",
   "version": "3.5.2"
  }
 },
 "nbformat": 4,
 "nbformat_minor": 0
}
