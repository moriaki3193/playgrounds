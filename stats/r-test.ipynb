{
 "cells": [
  {
   "cell_type": "markdown",
   "metadata": {},
   "source": [
    "# 相関係数の検定\n",
    "相関係数$r_{xy}$を考えて、2つのデータ$x$と$y$に相関関係があるかどうかを調べたいケースを考える。\n",
    "\n",
    "$$\n",
    "r_{xy} = \\frac{s_{xy}}{s_{x}s_{y}}\n",
    "$$\n",
    "\n",
    "帰無仮説$H_{0}$: 「母相関係数$\\rho$ = 0 (相関関係がない)」\n",
    "\n",
    "検定統計量$T = \\frac{|r|\\sqrt{n-2}}{1-r^{2}}$を考えると、自由度$n-2$のt分布に従う。\n",
    "\n",
    "## scipy.stats.pearsonr\n",
    "`(r, p-value)`を返す。`r`はピアソンの相関係数、`p-value`は両側検定のp値である。"
   ]
  },
  {
   "cell_type": "code",
   "execution_count": 1,
   "metadata": {
    "collapsed": true
   },
   "outputs": [],
   "source": [
    "%matplotlib inline\n",
    "import pandas as pd\n",
    "import matplotlib.pyplot as plt\n",
    "import numpy as np\n",
    "\n",
    "x = np.array([940, 880, 720, 840, 1020, 690, 920, 850, 710, 980])\n",
    "y = np.array([920, 910, 850, 880, 970, 960, 990, 760, 900, 940])\n",
    "df = pd.DataFrame({ \"x\": x, \"y\": y})"
   ]
  },
  {
   "cell_type": "code",
   "execution_count": 4,
   "metadata": {
    "collapsed": false
   },
   "outputs": [
    {
     "data": {
      "image/png": "[encoded data removed]",
      "text/plain": [
       "<matplotlib.figure.Figure at 0x1177f6908>"
      ]
     },
     "metadata": {},
     "output_type": "display_data"
    }
   ],
   "source": [
    "plt.scatter(x, y, marker=\"o\", color=\"b\")\n",
    "plt.xlabel(\"lifetime of parent mouse\")\n",
    "plt.ylabel(\"lifetime of child mouse\")\n",
    "plt.show()"
   ]
  },
  {
   "cell_type": "code",
   "execution_count": 9,
   "metadata": {
    "collapsed": false
   },
   "outputs": [
    {
     "data": {
      "text/plain": [
       "(0.31604428734858681, 0.37366756512310351)"
      ]
     },
     "execution_count": 9,
     "metadata": {},
     "output_type": "execute_result"
    }
   ],
   "source": [
    "import scipy.stats\n",
    "scipy.stats.pearsonr(x, y) # r, p-value"
   ]
  },
  {
   "cell_type": "markdown",
   "metadata": {},
   "source": [
    "上記の結果は、相関係数が0.32程度、p値が0.37程度であることを示している。\n",
    "有意水準を0.05として考えると、この結果は`p > 0.05`であり、このような相関係数は「偶然であるもの」として解釈される。"
   ]
  },
  {
   "cell_type": "code",
   "execution_count": null,
   "metadata": {
    "collapsed": true
   },
   "outputs": [],
   "source": []
  }
 ],
 "metadata": {
  "anaconda-cloud": {},
  "kernelspec": {
   "display_name": "Python [Root]",
   "language": "python",
   "name": "Python [Root]"
  },
  "language_info": {
   "codemirror_mode": {
    "name": "ipython",
    "version": 3
   },
   "file_extension": ".py",
   "mimetype": "text/x-python",
   "name": "python",
   "nbconvert_exporter": "python",
   "pygments_lexer": "ipython3",
   "version": "3.5.2"
  }
 },
 "nbformat": 4,
 "nbformat_minor": 0
}
